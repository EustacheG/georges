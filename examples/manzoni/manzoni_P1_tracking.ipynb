{
 "cells": [
  {
   "cell_type": "code",
   "execution_count": null,
   "metadata": {},
   "outputs": [],
   "source": [
    "%load_ext autoreload\n",
    "%autoreload 2\n",
    "%matplotlib inline\n",
    "import pandas as pd\n",
    "import numpy as np\n",
    "import matplotlib.pyplot as plt\n",
    "import georges_core\n",
    "\n",
    "import georges\n",
    "from georges import manzoni\n",
    "from georges import Kinematics\n",
    "from georges import ureg as _ureg\n",
    "from georges import PlacementSequence, Element\n",
    "from georges.manzoni import *\n",
    "from georges import vis \n",
    "\n",
    "from georges_core.sequences import *"
   ]
  },
  {
   "cell_type": "code",
   "execution_count": null,
   "metadata": {
    "jupyter": {
     "source_hidden": true
    }
   },
   "outputs": [],
   "source": [
    "font = {'family' : 'serif',\n",
    "        'weight' : 'bold',\n",
    "        'size'   : 10}\n",
    "plt.rc('font', **font)\n",
    "plt.rc('text', usetex=False)\n",
    "\n",
    "plt.rcParams['lines.markersize'] = 3\n",
    "plt.rcParams['lines.linewidth'] = 0.7\n",
    "plt.rcParams.update({'font.size': 10})\n",
    "plt.rcParams['figure.figsize'] = 10, 5\n",
    "plt.rcParams['figure.dpi'] = 300\n",
    "plt.rcParams['figure.facecolor'] = 'w'\n",
    "plt.rcParams['figure.edgecolor'] = 'k'\n",
    "plt.rcParams['savefig.dpi'] = 300\n",
    "plt.rcParams['legend.fontsize'] = 12\n",
    "plt.rcParams['axes.labelsize'] = 12\n",
    "plt.rcParams['axes.titlesize'] = 12\n",
    "plt.rcParams['axes.grid'] = True"
   ]
  },
  {
   "cell_type": "markdown",
   "metadata": {},
   "source": [
    "### Load S2C2 beam and set beam object"
   ]
  },
  {
   "cell_type": "code",
   "execution_count": null,
   "metadata": {},
   "outputs": [],
   "source": [
    "S2C2_beam = pd.read_pickle('S2C2_beam.pickle')"
   ]
  },
  {
   "cell_type": "code",
   "execution_count": null,
   "metadata": {},
   "outputs": [],
   "source": [
    "beam_array = S2C2_beam.values\n",
    "beam_distr = np.tile(beam_array, (2, 1))\n",
    "\n",
    "kin   = Kinematics(230*_ureg.MeV)\n",
    "_beam = Beam(kinematics = kin, distribution = beam_distr)"
   ]
  },
  {
   "cell_type": "markdown",
   "metadata": {},
   "source": [
    "### Load P1 dataframe"
   ]
  },
  {
   "cell_type": "code",
   "execution_count": null,
   "metadata": {},
   "outputs": [],
   "source": [
    "P1_df = pd.read_pickle('P1_df_beryllium.pickle')\n",
    "P1_df['L'] = P1_df['L'].apply(lambda e: e.m_as('meter') * _ureg.m)\n",
    "P1_df['APERTURE']"
   ]
  },
  {
   "cell_type": "markdown",
   "metadata": {},
   "source": [
    "### Track"
   ]
  },
  {
   "cell_type": "code",
   "execution_count": null,
   "metadata": {},
   "outputs": [],
   "source": [
    "P1_sequence = Sequence(data=P1_df)\n",
    "P1_input    = Input.from_sequence(sequence=P1_sequence)"
   ]
  },
  {
   "cell_type": "code",
   "execution_count": null,
   "metadata": {},
   "outputs": [],
   "source": [
    "P1_input.adjust_energy(input_energy=230*_ureg.MeV)"
   ]
  },
  {
   "cell_type": "code",
   "execution_count": null,
   "metadata": {},
   "outputs": [],
   "source": [
    "P1_input.freeze()"
   ]
  },
  {
   "cell_type": "code",
   "execution_count": null,
   "metadata": {},
   "outputs": [],
   "source": [
    "sigmas_o = SigmaObserver()\n",
    "beam_o   = BeamObserver(with_input_beams=True)\n",
    "\n",
    "P1_input.track(beam=_beam, observers=[sigmas_o, beam_o])"
   ]
  },
  {
   "cell_type": "markdown",
   "metadata": {},
   "source": [
    "### Set index for observers dataframes"
   ]
  },
  {
   "cell_type": "code",
   "execution_count": null,
   "metadata": {},
   "outputs": [],
   "source": [
    "sigmas_o_df = sigmas_o.to_df()\n",
    "sigmas_o_df.set_index('LABEL1', inplace=True)\n",
    "beam_o_df = beam_o.to_df()\n",
    "beam_o_df.set_index('LABEL1', inplace=True)"
   ]
  },
  {
   "cell_type": "markdown",
   "metadata": {},
   "source": [
    "### Plot tracking results"
   ]
  },
  {
   "cell_type": "markdown",
   "metadata": {},
   "source": [
    "#### X plane"
   ]
  },
  {
   "cell_type": "code",
   "execution_count": null,
   "metadata": {},
   "outputs": [],
   "source": [
    "plt.rc('text', usetex=False)\n",
    "fig = plt.figure(figsize=(15,10))\n",
    "ax = fig.add_subplot(211)\n",
    "\n",
    "vis.common.prepare(ax, P1_df, with_beamline=True, print_label=True)\n",
    "vis.aperture(ax, P1_df, plane='X')\n",
    "vis.tracking(ax, P1_df, beam_o_df, plane='X', std=False, mean=False)"
   ]
  },
  {
   "cell_type": "markdown",
   "metadata": {},
   "source": [
    "#### Y plane"
   ]
  },
  {
   "cell_type": "code",
   "execution_count": null,
   "metadata": {},
   "outputs": [],
   "source": [
    "fig = plt.figure(figsize=(15,10))\n",
    "ax = fig.add_subplot(211)\n",
    "\n",
    "vis.common.prepare(ax, P1_df, with_beamline=True, print_label=True)\n",
    "vis.aperture(ax, P1_df, plane='Y')\n",
    "vis.tracking(ax, P1_df, beam_o_df, plane='Y', std=False, mean=False)"
   ]
  },
  {
   "cell_type": "code",
   "execution_count": null,
   "metadata": {},
   "outputs": [],
   "source": [
    "fig = plt.figure(figsize=(15,10))\n",
    "ax = fig.add_subplot(211)\n",
    "\n",
    "_ = vis.losses(ax, P1_df, beam_o_df, log=True)"
   ]
  },
  {
   "cell_type": "code",
   "execution_count": null,
   "metadata": {},
   "outputs": [],
   "source": [
    "fig = vis.summary(P1_df, beam_o_df, element='DRIFT_ISO')"
   ]
  },
  {
   "cell_type": "markdown",
   "metadata": {},
   "source": [
    "### Load BDSIM data"
   ]
  },
  {
   "cell_type": "code",
   "execution_count": null,
   "metadata": {},
   "outputs": [],
   "source": [
    "bdsim_results = pd.read_csv(\"bdsim_results.csv\")\n",
    "bdsim_results.set_index('Name', inplace=True)\n",
    "bdsim_results"
   ]
  },
  {
   "cell_type": "code",
   "execution_count": null,
   "metadata": {},
   "outputs": [],
   "source": [
    "bdsim_results['x_quantile_minus_1_sigma'] -= bdsim_results['x_quantile_50']\n",
    "bdsim_results['x_quantile_plus_1_sigma'] -= bdsim_results['x_quantile_50']\n",
    "bdsim_results['x_quantile_minus_2_sigma'] -= bdsim_results['x_quantile_50']\n",
    "bdsim_results['x_quantile_plus_2_sigma'] -= bdsim_results['x_quantile_50']\n",
    "\n",
    "bdsim_results['y_quantile_minus_1_sigma'] -= bdsim_results['y_quantile_50']\n",
    "bdsim_results['y_quantile_plus_1_sigma'] -= bdsim_results['y_quantile_50']\n",
    "bdsim_results['y_quantile_minus_2_sigma'] -= bdsim_results['y_quantile_50']\n",
    "bdsim_results['y_quantile_plus_2_sigma'] -= bdsim_results['y_quantile_50']"
   ]
  },
  {
   "cell_type": "markdown",
   "metadata": {},
   "source": [
    "### Compare BDSIM to MANZONI"
   ]
  },
  {
   "cell_type": "markdown",
   "metadata": {},
   "source": [
    "#### X plane"
   ]
  },
  {
   "cell_type": "code",
   "execution_count": null,
   "metadata": {},
   "outputs": [],
   "source": [
    "plt.rc('text', usetex=False)\n",
    "fig = plt.figure(figsize=(15,10))\n",
    "ax = fig.add_subplot(211)\n",
    "\n",
    "_ = ax.plot(bdsim_results['AT_EXIT'], 1e3*bdsim_results['x_quantile_minus_1_sigma'],\n",
    "            marker='o', color='b', linestyle='dashed', label='bdsim, 1${\\sigma}$')\n",
    "_ = ax.plot(bdsim_results['AT_EXIT'], 1e3*bdsim_results['x_quantile_minus_2_sigma'],\n",
    "            marker='o', color='k', linestyle='dashed', label='bdsim, 2${\\sigma}$')\n",
    "ax.legend()\n",
    "\n",
    "_ = ax.plot(bdsim_results['AT_EXIT'], 1e3*bdsim_results['x_quantile_plus_1_sigma'],\n",
    "            marker='o', color='b', linestyle='dashed')\n",
    "_ = ax.plot(bdsim_results['AT_EXIT'], 1e3*bdsim_results['x_quantile_plus_2_sigma'],\n",
    "            marker='o', color='k', linestyle='dashed')\n",
    "\n",
    "vis.common.prepare(ax, P1_df, with_beamline=True, print_label=True)\n",
    "vis.aperture(ax, P1_df, plane='X')\n",
    "vis.tracking(ax, P1_df, beam_o_df, plane='X', std=False, mean=False)"
   ]
  },
  {
   "cell_type": "markdown",
   "metadata": {},
   "source": [
    "#### Y plane"
   ]
  },
  {
   "cell_type": "code",
   "execution_count": null,
   "metadata": {},
   "outputs": [],
   "source": [
    "plt.rc('text', usetex=False)\n",
    "fig = plt.figure(figsize=(15,10))\n",
    "ax = fig.add_subplot(211)\n",
    "\n",
    "_ = ax.plot(bdsim_results['AT_EXIT'], 1e3*bdsim_results['y_quantile_minus_1_sigma'],\n",
    "            marker='o', color='b', linestyle='dashed', label='bdsim, 1${\\sigma}$')\n",
    "_ = ax.plot(bdsim_results['AT_EXIT'], 1e3*bdsim_results['y_quantile_minus_2_sigma'],\n",
    "            marker='o', color='k', linestyle='dashed', label='bdsim, 2${\\sigma}$')\n",
    "ax.legend()\n",
    "\n",
    "_ = ax.plot(bdsim_results['AT_EXIT'], 1e3*bdsim_results['y_quantile_plus_1_sigma'],\n",
    "            marker='o', color='b', linestyle='dashed')\n",
    "_ = ax.plot(bdsim_results['AT_EXIT'], 1e3*bdsim_results['y_quantile_plus_2_sigma'],\n",
    "            marker='o', color='k', linestyle='dashed')\n",
    "\n",
    "vis.common.prepare(ax, P1_df, with_beamline=True, print_label=True)\n",
    "vis.aperture(ax, P1_df, plane='Y')\n",
    "vis.tracking(ax, P1_df, beam_o_df, plane='Y', std=False, mean=False)"
   ]
  }
 ],
 "metadata": {
  "kernelspec": {
   "display_name": "Python [conda env:py37] *",
   "language": "python",
   "name": "conda-env-py37-py"
  },
  "language_info": {
   "codemirror_mode": {
    "name": "ipython",
    "version": 3
   },
   "file_extension": ".py",
   "mimetype": "text/x-python",
   "name": "python",
   "nbconvert_exporter": "python",
   "pygments_lexer": "ipython3",
   "version": "3.7.5"
  }
 },
 "nbformat": 4,
 "nbformat_minor": 4
}
