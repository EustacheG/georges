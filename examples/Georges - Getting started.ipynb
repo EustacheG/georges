{
 "cells": [
  {
   "cell_type": "markdown",
   "metadata": {},
   "source": [
    "# Installation\n",
    "The easiest way to use `georges` is to clone it directly from Github:\n",
    "\n",
    "    cd ~/reps\n",
    "    git clone https://github.com/chernals/georges\n",
    "    cd georges\n",
    "    git status\n",
    "    \n",
    "assuming you have a `reps` directory in your home directory.\n",
    "\n",
    "From there it is easy to pull the latest updates:\n",
    "\n",
    "    cd ~/reps/georges\n",
    "    git pull\n",
    "   \n",
    "To be able to import the library you will need to have it in your python path. One way is to add it to the environment variable `$PYTHONPATH`. For example:\n",
    "\n",
    "    export PYTHONPATH=$PYTHONPATH:~/reps/\n",
    "echo $PYTHONPATH\n",
    "    \n",
    "This will add all the libraries in your `~/reps` directory to `$PYTHONPATH` and will make them available for import."
   ]
  },
  {
   "cell_type": "markdown",
   "metadata": {},
   "source": [
    "# Importing the package in Python\n",
    "You can access the library by simply importing it:\n",
    "\n",
    "    import georges\n",
    "   \n",
    "This will include only the core components of Georges. The different Georges' modules must be imported separately, depending on your needs:\n",
    "\n",
    "    import georges.madx\n",
    "    import georges.bdsim\n",
    "    import georges.manzoni\n",
    "    import georges.plotting\n",
    "    \n",
    "See the examples below for a typical use case."
   ]
  },
  {
   "cell_type": "code",
   "execution_count": null,
   "metadata": {},
   "outputs": [],
   "source": [
    "import georges\n",
    "from georges.plotting import *\n",
    "import georges.manzoni\n",
    "import georges.madx"
   ]
  },
  {
   "cell_type": "markdown",
   "metadata": {},
   "source": [
    "# Core components"
   ]
  },
  {
   "cell_type": "markdown",
   "metadata": {},
   "source": [
    "## Physics"
   ]
  },
  {
   "cell_type": "code",
   "execution_count": 7,
   "metadata": {},
   "outputs": [],
   "source": [
    "?georges.physics.kinematics"
   ]
  },
  {
   "cell_type": "markdown",
   "metadata": {},
   "source": [
    "The `georges.physics.kinematics` function allows rapid and easy conversion between the different kinematics quantities used in beam physics (kinetic energy, momentum, magnetic rigidity, relativistic gamma and beta) and to proton range in water (using the *IEC60601* range in water conversion)."
   ]
  },
  {
   "cell_type": "code",
   "execution_count": 12,
   "metadata": {},
   "outputs": [
    {
     "data": {
      "text/plain": [
       "{'beta': 0.42819548632181953,\n",
       " 'brho': 1.4829702350414049,\n",
       " 'energy': 100,\n",
       " 'gamma': 1.1065788932581768,\n",
       " 'momentum': 444.58341878662117,\n",
       " 'range': 7.7269636143698905}"
      ]
     },
     "execution_count": 12,
     "metadata": {},
     "output_type": "execute_result"
    }
   ],
   "source": [
    "georges.physics.kinematics(energy=100)"
   ]
  },
  {
   "cell_type": "code",
   "execution_count": 13,
   "metadata": {},
   "outputs": [
    {
     "data": {
      "text/plain": [
       "{'beta': 0.43244159571922342,\n",
       " 'brho': 1.5010379999999999,\n",
       " 'energy': 102.33086821870768,\n",
       " 'gamma': 1.109063106808982,\n",
       " 'momentum': 450,\n",
       " 'range': 8.0501247517130885}"
      ]
     },
     "execution_count": 13,
     "metadata": {},
     "output_type": "execute_result"
    }
   ],
   "source": [
    "georges.physics.kinematics(momentum=450)"
   ]
  },
  {
   "cell_type": "code",
   "execution_count": 14,
   "metadata": {},
   "outputs": [
    {
     "data": {
      "text/plain": [
       "{'beta': 0.5527707983925666,\n",
       " 'brho': 2.0760332515185556,\n",
       " 'energy': 187.65441625999995,\n",
       " 'gamma': 1.2,\n",
       " 'momentum': 622.3792889875873,\n",
       " 'range': 23.248200723538545}"
      ]
     },
     "execution_count": 14,
     "metadata": {},
     "output_type": "execute_result"
    }
   ],
   "source": [
    "georges.physics.kinematics(gamma=1.2)"
   ]
  },
  {
   "cell_type": "code",
   "execution_count": 15,
   "metadata": {},
   "outputs": [
    {
     "data": {
      "text/plain": [
       "{'beta': 0.4,\n",
       " 'brho': 1.365929596629474,\n",
       " 'energy': 85.466688943097552,\n",
       " 'gamma': 1.0910894511799618,\n",
       " 'momentum': 409.49550809723888,\n",
       " 'range': 5.8362733414685106}"
      ]
     },
     "execution_count": 15,
     "metadata": {},
     "output_type": "execute_result"
    }
   ],
   "source": [
    "georges.physics.kinematics(beta=0.4)"
   ]
  },
  {
   "cell_type": "code",
   "execution_count": 16,
   "metadata": {},
   "outputs": [
    {
     "data": {
      "text/plain": [
       "{'beta': 0.59219057901310057,\n",
       " 'brho': 2.3000819451857275,\n",
       " 'energy': 226.12911179644985,\n",
       " 'gamma': 1.2410059046872013,\n",
       " 'momentum': 689.54741674333184,\n",
       " 'range': 32}"
      ]
     },
     "execution_count": 16,
     "metadata": {},
     "output_type": "execute_result"
    }
   ],
   "source": [
    "georges.physics.kinematics(range=32)"
   ]
  },
  {
   "cell_type": "code",
   "execution_count": null,
   "metadata": {},
   "outputs": [],
   "source": []
  }
 ],
 "metadata": {
  "kernelspec": {
   "display_name": "Python 3 - Anaconda",
   "language": "python",
   "name": "conda-python3"
  },
  "language_info": {
   "codemirror_mode": {
    "name": "ipython",
    "version": 3
   },
   "file_extension": ".py",
   "mimetype": "text/x-python",
   "name": "python",
   "nbconvert_exporter": "python",
   "pygments_lexer": "ipython3",
   "version": "3.6.3"
  }
 },
 "nbformat": 4,
 "nbformat_minor": 2
}
