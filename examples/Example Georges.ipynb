{
 "cells": [
  {
   "cell_type": "code",
   "execution_count": 1,
   "metadata": {
    "collapsed": false
   },
   "outputs": [],
   "source": [
    "%matplotlib inline\n",
    "import sys\n",
    "import os\n",
    "sys.path.append(\"/Users/chernals/cernbox/Work/packages\")\n",
    "#sys.path.append(\"/Users/chernals/cernbox/Work/packages/georges\")\n",
    "import pandas as pd\n",
    "import matplotlib.pyplot as plt\n",
    "import georges\n",
    "PATH = \"/Users/chernals/Dropbox/IBA/Work/IBA-Optics/beamlines\""
   ]
  },
  {
   "cell_type": "code",
   "execution_count": 5,
   "metadata": {
    "collapsed": false,
    "scrolled": true
   },
   "outputs": [
    {
     "name": "stdout",
     "output_type": "stream",
     "text": [
      "BRHO=2.3114; DEGREE=pi/180.0;ESSSTART: marker; Q1E: quadrupole, l=0.295*m; DRIFT_0: drift, l=0.3329965761*m; Q2E: quadrupole, l=0.295*m; DRIFT_1: drift, l=0.1380008662*m; Q3E: quadrupole, l=0.295*m; DRIFT_2: drift, l=0.8282084377*m; B1E_0: rbend, l=0.03929968771*m, angle=-0.0004569261296800628/DEGREE; B1E_1: rbend, l=0.03929968771*m, angle=-0.0004569261296800628/DEGREE; B1E_2: rbend, l=0.03929968771*m, angle=-0.0004569261296800628/DEGREE; B1E_3: rbend, l=0.03929968771*m, angle=-0.0004569261296800628/DEGREE; B1E_4: rbend, l=0.03929968771*m, angle=-0.0004569261296800628/DEGREE; B1E_5: rbend, l=0.03929968771*m, angle=-0.0004569261296800628/DEGREE; B1E_6: rbend, l=0.03929968771*m, angle=-0.0004569261296800628/DEGREE; B1E_7: rbend, l=0.03929968771*m, angle=-0.0004569261296800628/DEGREE; B1E_8: rbend, l=0.03929968771*m, angle=-0.0004569261296800628/DEGREE; B1E_9: rbend, l=0.03929968771*m, angle=-0.0004569261296800628/DEGREE; B1E_10: rbend, l=0.03929968771*m, angle=-0.0004569261296800628/DEGREE; B1E_11: rbend, l=0.03929968771*m, angle=-0.0004569261296800628/DEGREE; B1E_12: rbend, l=0.03929968771*m, angle=-0.0004569261296800628/DEGREE; B1E_13: rbend, l=0.03929968771*m, angle=-0.0004569261296800628/DEGREE; B1E_14: rbend, l=0.03929968771*m, angle=-0.0004569261296800628/DEGREE; B1E_15: rbend, l=0.03929968771*m, angle=-0.0004569261296800628/DEGREE; B1E_16: rbend, l=0.03929968771*m, angle=-0.0004569261296800628/DEGREE; B1E_17: rbend, l=0.03929968771*m, angle=-0.0004569261296800628/DEGREE; B1E_18: rbend, l=0.03929968771*m, angle=-0.0004569261296800628/DEGREE; B1E_19: rbend, l=0.03929968771*m, angle=-0.0004569261296800628/DEGREE; DRIFT_3: drift, l=0.40630624579999997*m; B2E_0: rbend, l=0.03929968771*m, angle=-0.0004569261296800628/DEGREE; B2E_1: rbend, l=0.03929968771*m, angle=-0.0004569261296800628/DEGREE; B2E_2: rbend, l=0.03929968771*m, angle=-0.0004569261296800628/DEGREE; B2E_3: rbend, l=0.03929968771*m, angle=-0.0004569261296800628/DEGREE; B2E_4: rbend, l=0.03929968771*m, angle=-0.0004569261296800628/DEGREE; B2E_5: rbend, l=0.03929968771*m, angle=-0.0004569261296800628/DEGREE; B2E_6: rbend, l=0.03929968771*m, angle=-0.0004569261296800628/DEGREE; B2E_7: rbend, l=0.03929968771*m, angle=-0.0004569261296800628/DEGREE; B2E_8: rbend, l=0.03929968771*m, angle=-0.0004569261296800628/DEGREE; B2E_9: rbend, l=0.03929968771*m, angle=-0.0004569261296800628/DEGREE; B2E_10: rbend, l=0.03929968771*m, angle=-0.0004569261296800628/DEGREE; B2E_11: rbend, l=0.03929968771*m, angle=-0.0004569261296800628/DEGREE; B2E_12: rbend, l=0.03929968771*m, angle=-0.0004569261296800628/DEGREE; B2E_13: rbend, l=0.03929968771*m, angle=-0.0004569261296800628/DEGREE; B2E_14: rbend, l=0.03929968771*m, angle=-0.0004569261296800628/DEGREE; B2E_15: rbend, l=0.03929968771*m, angle=-0.0004569261296800628/DEGREE; B2E_16: rbend, l=0.03929968771*m, angle=-0.0004569261296800628/DEGREE; B2E_17: rbend, l=0.03929968771*m, angle=-0.0004569261296800628/DEGREE; B2E_18: rbend, l=0.03929968771*m, angle=-0.0004569261296800628/DEGREE; B2E_19: rbend, l=0.03929968771*m, angle=-0.0004569261296800628/DEGREE; DRIFT_4: drift, l=0.2911375162*m; Q4E: quadrupole, l=0.295*m; DRIFT_5: drift, l=0.1370060843*m; Q5E: quadrupole, l=0.295*m; DRIFT_6: drift, l=0.3590577695*m; Q6E: quadrupole, l=0.295*m; DRIFT_7: drift, l=0.13699742410000001*m; Q7E: quadrupole, l=0.295*m; DRIFT_8: drift, l=0.2914205482*m; B3E_0: rbend, l=0.03929968771*m, angle=-0.0004569261296800628/DEGREE; B3E_1: rbend, l=0.03929968771*m, angle=-0.0004569261296800628/DEGREE; B3E_2: rbend, l=0.03929968771*m, angle=-0.0004569261296800628/DEGREE; B3E_3: rbend, l=0.03929968771*m, angle=-0.0004569261296800628/DEGREE; B3E_4: rbend, l=0.03929968771*m, angle=-0.0004569261296800628/DEGREE; B3E_5: rbend, l=0.03929968771*m, angle=-0.0004569261296800628/DEGREE; B3E_6: rbend, l=0.03929968771*m, angle=-0.0004569261296800628/DEGREE; B3E_7: rbend, l=0.03929968771*m, angle=-0.0004569261296800628/DEGREE; B3E_8: rbend, l=0.03929968771*m, angle=-0.0004569261296800628/DEGREE; B3E_9: rbend, l=0.03929968771*m, angle=-0.0004569261296800628/DEGREE; B3E_10: rbend, l=0.03929968771*m, angle=-0.0004569261296800628/DEGREE; B3E_11: rbend, l=0.03929968771*m, angle=-0.0004569261296800628/DEGREE; B3E_12: rbend, l=0.03929968771*m, angle=-0.0004569261296800628/DEGREE; B3E_13: rbend, l=0.03929968771*m, angle=-0.0004569261296800628/DEGREE; B3E_14: rbend, l=0.03929968771*m, angle=-0.0004569261296800628/DEGREE; B3E_15: rbend, l=0.03929968771*m, angle=-0.0004569261296800628/DEGREE; B3E_16: rbend, l=0.03929968771*m, angle=-0.0004569261296800628/DEGREE; B3E_17: rbend, l=0.03929968771*m, angle=-0.0004569261296800628/DEGREE; B3E_18: rbend, l=0.03929968771*m, angle=-0.0004569261296800628/DEGREE; B3E_19: rbend, l=0.03929968771*m, angle=-0.0004569261296800628/DEGREE; DRIFT_9: drift, l=0.3959785095*m; B4E_0: rbend, l=0.03929968771*m, angle=-0.0004569261296800628/DEGREE; B4E_1: rbend, l=0.03929968771*m, angle=-0.0004569261296800628/DEGREE; B4E_2: rbend, l=0.03929968771*m, angle=-0.0004569261296800628/DEGREE; B4E_3: rbend, l=0.03929968771*m, angle=-0.0004569261296800628/DEGREE; B4E_4: rbend, l=0.03929968771*m, angle=-0.0004569261296800628/DEGREE; B4E_5: rbend, l=0.03929968771*m, angle=-0.0004569261296800628/DEGREE; B4E_6: rbend, l=0.03929968771*m, angle=-0.0004569261296800628/DEGREE; B4E_7: rbend, l=0.03929968771*m, angle=-0.0004569261296800628/DEGREE; B4E_8: rbend, l=0.03929968771*m, angle=-0.0004569261296800628/DEGREE; B4E_9: rbend, l=0.03929968771*m, angle=-0.0004569261296800628/DEGREE; B4E_10: rbend, l=0.03929968771*m, angle=-0.0004569261296800628/DEGREE; B4E_11: rbend, l=0.03929968771*m, angle=-0.0004569261296800628/DEGREE; B4E_12: rbend, l=0.03929968771*m, angle=-0.0004569261296800628/DEGREE; B4E_13: rbend, l=0.03929968771*m, angle=-0.0004569261296800628/DEGREE; B4E_14: rbend, l=0.03929968771*m, angle=-0.0004569261296800628/DEGREE; B4E_15: rbend, l=0.03929968771*m, angle=-0.0004569261296800628/DEGREE; B4E_16: rbend, l=0.03929968771*m, angle=-0.0004569261296800628/DEGREE; B4E_17: rbend, l=0.03929968771*m, angle=-0.0004569261296800628/DEGREE; B4E_18: rbend, l=0.03929968771*m, angle=-0.0004569261296800628/DEGREE; B4E_19: rbend, l=0.03929968771*m, angle=-0.0004569261296800628/DEGREE; DRIFT_10: drift, l=0.3832786999*m; Q8E: quadrupole, l=0.295*m; DRIFT_11: drift, l=0.479*m; Q9E: quadrupole, l=0.295*m; DRIFT_12: drift, l=0.385*m; Q10E: quadrupole, l=0.295*m; DRIFT_13: drift, l=1.038807546*m; B1B1_0: rbend, l=0.03929968771*m, angle=-0.0004569261296800628/DEGREE; B1B1_1: rbend, l=0.03929968771*m, angle=-0.0004569261296800628/DEGREE; B1B1_2: rbend, l=0.03929968771*m, angle=-0.0004569261296800628/DEGREE; B1B1_3: rbend, l=0.03929968771*m, angle=-0.0004569261296800628/DEGREE; B1B1_4: rbend, l=0.03929968771*m, angle=-0.0004569261296800628/DEGREE; B1B1_5: rbend, l=0.03929968771*m, angle=-0.0004569261296800628/DEGREE; B1B1_6: rbend, l=0.03929968771*m, angle=-0.0004569261296800628/DEGREE; B1B1_7: rbend, l=0.03929968771*m, angle=-0.0004569261296800628/DEGREE; B1B1_8: rbend, l=0.03929968771*m, angle=-0.0004569261296800628/DEGREE; B1B1_9: rbend, l=0.03929968771*m, angle=-0.0004569261296800628/DEGREE; B1B1_10: rbend, l=0.03929968771*m, angle=-0.0004569261296800628/DEGREE; B1B1_11: rbend, l=0.03929968771*m, angle=-0.0004569261296800628/DEGREE; B1B1_12: rbend, l=0.03929968771*m, angle=-0.0004569261296800628/DEGREE; B1B1_13: rbend, l=0.03929968771*m, angle=-0.0004569261296800628/DEGREE; B1B1_14: rbend, l=0.03929968771*m, angle=-0.0004569261296800628/DEGREE; B1B1_15: rbend, l=0.03929968771*m, angle=-0.0004569261296800628/DEGREE; B1B1_16: rbend, l=0.03929968771*m, angle=-0.0004569261296800628/DEGREE; B1B1_17: rbend, l=0.03929968771*m, angle=-0.0004569261296800628/DEGREE; B1B1_18: rbend, l=0.03929968771*m, angle=-0.0004569261296800628/DEGREE; B1B1_19: rbend, l=0.03929968771*m, angle=-0.0004569261296800628/DEGREE; DRIFT_14: drift, l=0.2943450669*m; Q1B1: quadrupole, l=0.295*m; Q2B1: quadrupole, l=0.295*m; DRIFT_15: drift, l=0.21499744010000002*m; Q3B1: quadrupole, l=0.295*m; DRIFT_16: drift, l=0.28799211280000003*m; B2B1_0: rbend, l=0.03929968771*m, angle=-0.0004569261296800628/DEGREE; B2B1_1: rbend, l=0.03929968771*m, angle=-0.0004569261296800628/DEGREE; B2B1_2: rbend, l=0.03929968771*m, angle=-0.0004569261296800628/DEGREE; B2B1_3: rbend, l=0.03929968771*m, angle=-0.0004569261296800628/DEGREE; B2B1_4: rbend, l=0.03929968771*m, angle=-0.0004569261296800628/DEGREE; B2B1_5: rbend, l=0.03929968771*m, angle=-0.0004569261296800628/DEGREE; B2B1_6: rbend, l=0.03929968771*m, angle=-0.0004569261296800628/DEGREE; B2B1_7: rbend, l=0.03929968771*m, angle=-0.0004569261296800628/DEGREE; B2B1_8: rbend, l=0.03929968771*m, angle=-0.0004569261296800628/DEGREE; B2B1_9: rbend, l=0.03929968771*m, angle=-0.0004569261296800628/DEGREE; B2B1_10: rbend, l=0.03929968771*m, angle=-0.0004569261296800628/DEGREE; B2B1_11: rbend, l=0.03929968771*m, angle=-0.0004569261296800628/DEGREE; B2B1_12: rbend, l=0.03929968771*m, angle=-0.0004569261296800628/DEGREE; B2B1_13: rbend, l=0.03929968771*m, angle=-0.0004569261296800628/DEGREE; B2B1_14: rbend, l=0.03929968771*m, angle=-0.0004569261296800628/DEGREE; B2B1_15: rbend, l=0.03929968771*m, angle=-0.0004569261296800628/DEGREE; B2B1_16: rbend, l=0.03929968771*m, angle=-0.0004569261296800628/DEGREE; B2B1_17: rbend, l=0.03929968771*m, angle=-0.0004569261296800628/DEGREE; B2B1_18: rbend, l=0.03929968771*m, angle=-0.0004569261296800628/DEGREE; B2B1_19: rbend, l=0.03929968771*m, angle=-0.0004569261296800628/DEGREE; DRIFT_17: drift, l=0.2263001898*m; Q1F1: quadrupole, l=0.295*m; DRIFT_18: drift, l=0.2714027811*m; Q2F1: quadrupole, l=0.295*m; DRIFT_19: drift, l=0.2249972201*m; Q3F1: quadrupole, l=0.295*m; DRIFT_20: drift, l=2.321525791*m; B1F1_0: rbend, l=0.03929968771*m, angle=--0.0004569261296800628/DEGREE; B1F1_1: rbend, l=0.03929968771*m, angle=--0.0004569261296800628/DEGREE; B1F1_2: rbend, l=0.03929968771*m, angle=--0.0004569261296800628/DEGREE; B1F1_3: rbend, l=0.03929968771*m, angle=--0.0004569261296800628/DEGREE; B1F1_4: rbend, l=0.03929968771*m, angle=--0.0004569261296800628/DEGREE; B1F1_5: rbend, l=0.03929968771*m, angle=--0.0004569261296800628/DEGREE; B1F1_6: rbend, l=0.03929968771*m, angle=--0.0004569261296800628/DEGREE; B1F1_7: rbend, l=0.03929968771*m, angle=--0.0004569261296800628/DEGREE; B1F1_8: rbend, l=0.03929968771*m, angle=--0.0004569261296800628/DEGREE; B1F1_9: rbend, l=0.03929968771*m, angle=--0.0004569261296800628/DEGREE; B1F1_10: rbend, l=0.03929968771*m, angle=--0.0004569261296800628/DEGREE; B1F1_11: rbend, l=0.03929968771*m, angle=--0.0004569261296800628/DEGREE; B1F1_12: rbend, l=0.03929968771*m, angle=--0.0004569261296800628/DEGREE; B1F1_13: rbend, l=0.03929968771*m, angle=--0.0004569261296800628/DEGREE; B1F1_14: rbend, l=0.03929968771*m, angle=--0.0004569261296800628/DEGREE; B1F1_15: rbend, l=0.03929968771*m, angle=--0.0004569261296800628/DEGREE; B1F1_16: rbend, l=0.03929968771*m, angle=--0.0004569261296800628/DEGREE; B1F1_17: rbend, l=0.03929968771*m, angle=--0.0004569261296800628/DEGREE; B1F1_18: rbend, l=0.03929968771*m, angle=--0.0004569261296800628/DEGREE; B1F1_19: rbend, l=0.03929968771*m, angle=--0.0004569261296800628/DEGREE; DRIFT_21: drift, l=0.8090245558*m; Q4F1: quadrupole, l=0.295*m; DRIFT_22: drift, l=0.2249970911*m; Q5F1: quadrupole, l=0.295*m; ESSEND: marker;ess: line = (ESSSTART,Q1E,DRIFT_0,Q2E,DRIFT_1,Q3E,DRIFT_2,B1E_0,B1E_1,B1E_2,B1E_3,B1E_4,B1E_5,B1E_6,B1E_7,B1E_8,B1E_9,B1E_10,B1E_11,B1E_12,B1E_13,B1E_14,B1E_15,B1E_16,B1E_17,B1E_18,B1E_19,DRIFT_3,B2E_0,B2E_1,B2E_2,B2E_3,B2E_4,B2E_5,B2E_6,B2E_7,B2E_8,B2E_9,B2E_10,B2E_11,B2E_12,B2E_13,B2E_14,B2E_15,B2E_16,B2E_17,B2E_18,B2E_19,DRIFT_4,Q4E,DRIFT_5,Q5E,DRIFT_6,Q6E,DRIFT_7,Q7E,DRIFT_8,B3E_0,B3E_1,B3E_2,B3E_3,B3E_4,B3E_5,B3E_6,B3E_7,B3E_8,B3E_9,B3E_10,B3E_11,B3E_12,B3E_13,B3E_14,B3E_15,B3E_16,B3E_17,B3E_18,B3E_19,DRIFT_9,B4E_0,B4E_1,B4E_2,B4E_3,B4E_4,B4E_5,B4E_6,B4E_7,B4E_8,B4E_9,B4E_10,B4E_11,B4E_12,B4E_13,B4E_14,B4E_15,B4E_16,B4E_17,B4E_18,B4E_19,DRIFT_10,Q8E,DRIFT_11,Q9E,DRIFT_12,Q10E,DRIFT_13,B1B1_0,B1B1_1,B1B1_2,B1B1_3,B1B1_4,B1B1_5,B1B1_6,B1B1_7,B1B1_8,B1B1_9,B1B1_10,B1B1_11,B1B1_12,B1B1_13,B1B1_14,B1B1_15,B1B1_16,B1B1_17,B1B1_18,B1B1_19,DRIFT_14,Q1B1,DRIFT_15,Q2B1,DRIFT_15,Q3B1,DRIFT_16,B2B1_0,B2B1_1,B2B1_2,B2B1_3,B2B1_4,B2B1_5,B2B1_6,B2B1_7,B2B1_8,B2B1_9,B2B1_10,B2B1_11,B2B1_12,B2B1_13,B2B1_14,B2B1_15,B2B1_16,B2B1_17,B2B1_18,B2B1_19,DRIFT_17,Q1F1,DRIFT_18,Q2F1,DRIFT_19,Q3F1,DRIFT_20,B1F1_0,B1F1_1,B1F1_2,B1F1_3,B1F1_4,B1F1_5,B1F1_6,B1F1_7,B1F1_8,B1F1_9,B1F1_10,B1F1_11,B1F1_12,B1F1_13,B1F1_14,B1F1_15,B1F1_16,B1F1_17,B1F1_18,B1F1_19,DRIFT_21,Q4F1,DRIFT_22,Q5F1,ESSEND);\n"
     ]
    }
   ],
   "source": [
    "bdsim = georges.bdsim.BDSim(bdsim='/Users/chernals/bdsim-build/bdsim', path=PATH, context=context)\n",
    "bdsim.attach(bl_survey)\n",
    "bdsim.print_input()"
   ]
  },
  {
   "cell_type": "code",
   "execution_count": 4,
   "metadata": {
    "collapsed": false
   },
   "outputs": [],
   "source": [
    "brho = georges.physics.momentum_to_brho(georges.physics.energy_to_momentum(177.5))\n",
    "context = {\n",
    "        'PARTICLE': 'PROTON',\n",
    "        'PC': georges.physics.energy_to_momentum(177.5),\n",
    "        'BETAX'   : 0.0846155,\n",
    "        'BETAY'   : 0.0846155,\n",
    "        'ALPHAX': 0.0,\n",
    "        'ALPHAY': 0.0,\n",
    "        'DELTAP': 0.0,\n",
    "        'DPP': 0.5e-2,\n",
    "        'IQ1E': 2.741/10/brho/0.0325*0.297/0.295,\n",
    "        'IQ2E': -5.745/10/brho/0.0325*0.297/0.295,\n",
    "        'IQ3E': 4.079/10/brho/0.0325*0.297/0.295,\n",
    "        'IQ47E': -3.062/10/brho/0.0325,\n",
    "        'IQ56E': 2.66/10/brho/0.0325,\n",
    "        'IQ8E': 3.5484/10/brho/0.0325,\n",
    "        'IQ9E': -4.0276/10/brho/0.0325,\n",
    "        'IQ10E': 4.0352/10/brho/0.0325,\n",
    "        'MOMENTUM_SLITS_OPENING' : 1.015,\n",
    "        'DIVERGENCE_SLITS_OPENING_X' : 1.015,\n",
    "        'DIVERGENCE_SLITS_OPENING_Y' : 1.015,\n",
    "        'N_TRACKING': 5000,\n",
    "        'EMITX': 14.3e-6,\n",
    "        'EMITY': 14.3e-6,\n",
    "    }\n",
    "m = georges.madx.Madx(madx='/usr/local/bin/madx', path=PATH, context=context)\n",
    "bl = georges.Beamline(['ess'], path=PATH, prefix='generic', elements='elements')\n",
    "bl_survey = georges.madx.survey(line=bl, madx=m)\n",
    "#bl_twiss= georges.madx.twiss(line=bl, madx=m)\n",
    "#b = georges.Beam(energy=200).from_5d_multigaussian_distribution(5,\n",
    "#                                                   XRMS=0.01,\n",
    "#                                                   PXRMS=0.001,\n",
    "#                                                   YRMS=0.01,\n",
    "#                                                   PYRMS=0.001,\n",
    "#                                                   DPPRMS=0.00)\n",
    "#bl_track = georges.madx.track(line=bl, madx=m, beam=b, ptc=False)\n",
    "#from georges.plotting import *\n",
    "#with plt.style.context('word'):\n",
    "#    fig = plt.figure(1)\n",
    "\n",
    "#    ax1 = fig.add_subplot(111)\n",
    "#    prepare(ax1, bl)\n",
    "#    aperture(ax1, bl)\n",
    "    #twiss(ax1, bl_twiss)\n",
    "    #track(ax1, bl, b)\n"
   ]
  },
  {
   "cell_type": "code",
   "execution_count": null,
   "metadata": {
    "collapsed": true
   },
   "outputs": [],
   "source": []
  }
 ],
 "metadata": {
  "kernelspec": {
   "display_name": "Python 3 - Brew",
   "language": "python",
   "name": "python3"
  },
  "language_info": {
   "codemirror_mode": {
    "name": "ipython",
    "version": 3
   },
   "file_extension": ".py",
   "mimetype": "text/x-python",
   "name": "python",
   "nbconvert_exporter": "python",
   "pygments_lexer": "ipython3",
   "version": "3.5.0"
  }
 },
 "nbformat": 4,
 "nbformat_minor": 0
}
