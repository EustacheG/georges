{
 "cells": [
  {
   "cell_type": "code",
   "execution_count": 1,
   "metadata": {
    "collapsed": false
   },
   "outputs": [],
   "source": [
    "%load_ext autoreload\n",
    "%autoreload 2\n",
    "%matplotlib inline\n",
    "import sys\n",
    "import os\n",
    "sys.path.append(\"/Users/chernals/cernbox/Work/packages\")\n",
    "import pandas as pd\n",
    "import matplotlib.pyplot as plt"
   ]
  },
  {
   "cell_type": "code",
   "execution_count": 12,
   "metadata": {
    "collapsed": false
   },
   "outputs": [
    {
     "name": "stdout",
     "output_type": "stream",
     "text": [
      "/usr/local/bin/madx\n"
     ]
    }
   ],
   "source": [
    "import georges\n",
    "PATH = \"/Users/chernals/Dropbox/IBA/Work/IBA-Optics/beamlines\"\n",
    "m = georges.madx.Madx()\n",
    "m.context\n",
    "#bdsim = georges.bdsim.BDSim(bdsim='/Users/chernals/bdsim-build/bdsim', path=PATH)\n",
    "bl = georges.Beamline(['ess'], path=PATH, prefix='generic', elements='elements')\n",
    "bl.line\n",
    "m.input\n",
    "print(m._get_exec())"
   ]
  },
  {
   "cell_type": "code",
   "execution_count": 5,
   "metadata": {
    "collapsed": false,
    "scrolled": true
   },
   "outputs": [
    {
     "ename": "NameError",
     "evalue": "name 'madx_syntax' is not defined",
     "output_type": "error",
     "traceback": [
      "\u001b[0;31m---------------------------------------------------------------------------\u001b[0m",
      "\u001b[0;31mNameError\u001b[0m                                 Traceback (most recent call last)",
      "\u001b[0;32m<ipython-input-5-53b5558c24c1>\u001b[0m in \u001b[0;36m<module>\u001b[0;34m()\u001b[0m\n\u001b[1;32m      1\u001b[0m \u001b[0mbdsim\u001b[0m \u001b[0;34m=\u001b[0m \u001b[0mgeorges\u001b[0m\u001b[0;34m.\u001b[0m\u001b[0mbdsim\u001b[0m\u001b[0;34m.\u001b[0m\u001b[0mBDSim\u001b[0m\u001b[0;34m(\u001b[0m\u001b[0mbdsim\u001b[0m\u001b[0;34m=\u001b[0m\u001b[0;34m'/Users/chernals/bdsim-build/bdsim'\u001b[0m\u001b[0;34m,\u001b[0m \u001b[0mpath\u001b[0m\u001b[0;34m=\u001b[0m\u001b[0mPATH\u001b[0m\u001b[0;34m,\u001b[0m \u001b[0mcontext\u001b[0m\u001b[0;34m=\u001b[0m\u001b[0mcontext\u001b[0m\u001b[0;34m)\u001b[0m\u001b[0;34m\u001b[0m\u001b[0m\n\u001b[1;32m      2\u001b[0m \u001b[0mbdsim\u001b[0m\u001b[0;34m.\u001b[0m\u001b[0mattach\u001b[0m\u001b[0;34m(\u001b[0m\u001b[0mbl_survey\u001b[0m\u001b[0;34m)\u001b[0m\u001b[0;34m\u001b[0m\u001b[0m\n\u001b[0;32m----> 3\u001b[0;31m \u001b[0mbdsim\u001b[0m\u001b[0;34m.\u001b[0m\u001b[0mrun\u001b[0m\u001b[0;34m(\u001b[0m\u001b[0;34m{\u001b[0m\u001b[0;34m}\u001b[0m\u001b[0;34m)\u001b[0m\u001b[0;34m\u001b[0m\u001b[0m\n\u001b[0m\u001b[1;32m      4\u001b[0m \u001b[0;31m#bdsim.print_input()\u001b[0m\u001b[0;34m\u001b[0m\u001b[0;34m\u001b[0m\u001b[0m\n",
      "\u001b[0;32m/Users/chernals/cernbox/Work/packages/georges/bdsim/bdsim.py\u001b[0m in \u001b[0;36mrun\u001b[0;34m(self, context)\u001b[0m\n\u001b[1;32m     98\u001b[0m     \u001b[0;32mdef\u001b[0m \u001b[0mrun\u001b[0m\u001b[0;34m(\u001b[0m\u001b[0mself\u001b[0m\u001b[0;34m,\u001b[0m \u001b[0mcontext\u001b[0m\u001b[0;34m)\u001b[0m\u001b[0;34m:\u001b[0m\u001b[0;34m\u001b[0m\u001b[0m\n\u001b[1;32m     99\u001b[0m         \u001b[0;34m\"\"\"Run bdsim as a subprocess.\"\"\"\u001b[0m\u001b[0;34m\u001b[0m\u001b[0m\n\u001b[0;32m--> 100\u001b[0;31m         \u001b[0mself\u001b[0m\u001b[0;34m.\u001b[0m\u001b[0m__add_input\u001b[0m\u001b[0;34m(\u001b[0m\u001b[0;34m\"options\"\u001b[0m\u001b[0;34m,\u001b[0m \u001b[0;34m(\u001b[0m\u001b[0;34m\"proton\"\u001b[0m\u001b[0;34m,\u001b[0m \u001b[0;36m32.5\u001b[0m\u001b[0;34m,\u001b[0m \u001b[0;34m\"circular\"\u001b[0m\u001b[0;34m,\u001b[0m \u001b[0;34m\"Aluminium\"\u001b[0m\u001b[0;34m)\u001b[0m\u001b[0;34m)\u001b[0m\u001b[0;34m\u001b[0m\u001b[0m\n\u001b[0m\u001b[1;32m    101\u001b[0m         \u001b[0mself\u001b[0m\u001b[0;34m.\u001b[0m\u001b[0m__template_input\u001b[0m \u001b[0;34m=\u001b[0m \u001b[0mjinja2\u001b[0m\u001b[0;34m.\u001b[0m\u001b[0mTemplate\u001b[0m\u001b[0;34m(\u001b[0m\u001b[0mself\u001b[0m\u001b[0;34m.\u001b[0m\u001b[0m__input\u001b[0m\u001b[0;34m)\u001b[0m\u001b[0;34m.\u001b[0m\u001b[0mrender\u001b[0m\u001b[0;34m(\u001b[0m\u001b[0mcontext\u001b[0m\u001b[0;34m)\u001b[0m\u001b[0;34m\u001b[0m\u001b[0m\n\u001b[1;32m    102\u001b[0m         \u001b[0;32mif\u001b[0m \u001b[0mself\u001b[0m\u001b[0;34m.\u001b[0m\u001b[0m__get_bdsim_path\u001b[0m\u001b[0;34m(\u001b[0m\u001b[0;34m)\u001b[0m \u001b[0;32mis\u001b[0m \u001b[0;32mNone\u001b[0m\u001b[0;34m:\u001b[0m\u001b[0;34m\u001b[0m\u001b[0m\n",
      "\u001b[0;32m/Users/chernals/cernbox/Work/packages/georges/bdsim/bdsim.py\u001b[0m in \u001b[0;36m__add_input\u001b[0;34m(self, keyword, strings)\u001b[0m\n\u001b[1;32m     90\u001b[0m \u001b[0;34m\u001b[0m\u001b[0m\n\u001b[1;32m     91\u001b[0m     \u001b[0;32mdef\u001b[0m \u001b[0m__add_input\u001b[0m\u001b[0;34m(\u001b[0m\u001b[0mself\u001b[0m\u001b[0;34m,\u001b[0m \u001b[0mkeyword\u001b[0m\u001b[0;34m,\u001b[0m \u001b[0mstrings\u001b[0m\u001b[0;34m=\u001b[0m\u001b[0;34m(\u001b[0m\u001b[0;34m)\u001b[0m\u001b[0;34m)\u001b[0m\u001b[0;34m:\u001b[0m\u001b[0;34m\u001b[0m\u001b[0m\n\u001b[0;32m---> 92\u001b[0;31m         \u001b[0mself\u001b[0m\u001b[0;34m.\u001b[0m\u001b[0m__input\u001b[0m \u001b[0;34m+=\u001b[0m \u001b[0mmadx_syntax\u001b[0m\u001b[0;34m[\u001b[0m\u001b[0mkeyword\u001b[0m\u001b[0;34m]\u001b[0m\u001b[0;34m.\u001b[0m\u001b[0mformat\u001b[0m\u001b[0;34m(\u001b[0m\u001b[0;34m*\u001b[0m\u001b[0mstrings\u001b[0m\u001b[0;34m)\u001b[0m \u001b[0;34m+\u001b[0m \u001b[0;34m'\\n'\u001b[0m\u001b[0;34m\u001b[0m\u001b[0m\n\u001b[0m\u001b[1;32m     93\u001b[0m \u001b[0;34m\u001b[0m\u001b[0m\n\u001b[1;32m     94\u001b[0m     \u001b[0;32mdef\u001b[0m \u001b[0mattach\u001b[0m\u001b[0;34m(\u001b[0m\u001b[0mself\u001b[0m\u001b[0;34m,\u001b[0m \u001b[0mbeamline\u001b[0m\u001b[0;34m)\u001b[0m\u001b[0;34m:\u001b[0m\u001b[0;34m\u001b[0m\u001b[0m\n",
      "\u001b[0;31mNameError\u001b[0m: name 'madx_syntax' is not defined"
     ]
    }
   ],
   "source": [
    "bdsim.attach(bl_survey)\n",
    "bdsim.run({})\n",
    "#bdsim.print_input()"
   ]
  },
  {
   "cell_type": "code",
   "execution_count": 2,
   "metadata": {
    "collapsed": false
   },
   "outputs": [],
   "source": [
    "brho = georges.physics.momentum_to_brho(georges.physics.energy_to_momentum(177.5))\n",
    "context = {\n",
    "        'PARTICLE': 'PROTON',\n",
    "        'PC': georges.physics.energy_to_momentum(177.5),\n",
    "        'BETAX'   : 0.0846155,\n",
    "        'BETAY'   : 0.0846155,\n",
    "        'ALPHAX': 0.0,\n",
    "        'ALPHAY': 0.0,\n",
    "        'DELTAP': 0.0,\n",
    "        'DPP': 0.5e-2,\n",
    "        'IQ1E': 2.741/10/brho/0.0325*0.297/0.295,\n",
    "        'IQ2E': -5.745/10/brho/0.0325*0.297/0.295,\n",
    "        'IQ3E': 4.079/10/brho/0.0325*0.297/0.295,\n",
    "        'IQ47E': -3.062/10/brho/0.0325,\n",
    "        'IQ56E': 2.66/10/brho/0.0325,\n",
    "        'IQ8E': 3.5484/10/brho/0.0325,\n",
    "        'IQ9E': -4.0276/10/brho/0.0325,\n",
    "        'IQ10E': 4.0352/10/brho/0.0325,\n",
    "        'MOMENTUM_SLITS_OPENING' : 1.015,\n",
    "        'DIVERGENCE_SLITS_OPENING_X' : 1.015,\n",
    "        'DIVERGENCE_SLITS_OPENING_Y' : 1.015,\n",
    "        'N_TRACKING': 5000,\n",
    "        'EMITX': 14.3e-6,\n",
    "        'EMITY': 14.3e-6,\n",
    "    }\n",
    "bl_survey = georges.madx.survey(line=bl, madx=m)\n",
    "#bl_twiss= georges.madx.twiss(line=bl, madx=m)\n",
    "#b = georges.Beam(energy=200).from_5d_multigaussian_distribution(5,\n",
    "#                                                   XRMS=0.01,\n",
    "#                                                   PXRMS=0.001,\n",
    "#                                                   YRMS=0.01,\n",
    "#                                                   PYRMS=0.001,\n",
    "#                                                   DPPRMS=0.00)\n",
    "#bl_track = georges.madx.track(line=bl, madx=m, beam=b, ptc=False)\n",
    "#from georges.plotting import *\n",
    "#with plt.style.context('word'):\n",
    "#    fig = plt.figure(1)\n",
    "\n",
    "#    ax1 = fig.add_subplot(111)\n",
    "#    prepare(ax1, bl)\n",
    "#    aperture(ax1, bl)\n",
    "    #twiss(ax1, bl_twiss)\n",
    "    #track(ax1, bl, b)"
   ]
  },
  {
   "cell_type": "code",
   "execution_count": null,
   "metadata": {
    "collapsed": true
   },
   "outputs": [],
   "source": []
  }
 ],
 "metadata": {
  "kernelspec": {
   "display_name": "Python 3 - Brew",
   "language": "python",
   "name": "python3"
  },
  "language_info": {
   "codemirror_mode": {
    "name": "ipython",
    "version": 3
   },
   "file_extension": ".py",
   "mimetype": "text/x-python",
   "name": "python",
   "nbconvert_exporter": "python",
   "pygments_lexer": "ipython3",
   "version": "3.5.0"
  }
 },
 "nbformat": 4,
 "nbformat_minor": 0
}
