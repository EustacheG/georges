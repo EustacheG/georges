{
 "cells": [
  {
   "cell_type": "code",
   "execution_count": null,
   "metadata": {},
   "outputs": [],
   "source": [
    "import georges"
   ]
  },
  {
   "cell_type": "markdown",
   "metadata": {},
   "source": [
    "# Loading from IBA-Optics"
   ]
  },
  {
   "cell_type": "code",
   "execution_count": 1,
   "metadata": {
    "collapsed": true
   },
   "outputs": [
    {
     "ename": "NameError",
     "evalue": "name 'georges' is not defined",
     "traceback": [
      "\u001b[0;31m---------------------------------------------------------------------------\u001b[0m",
      "\u001b[0;31mNameError\u001b[0m                                 Traceback (most recent call last)",
      "\u001b[0;32m<ipython-input-1-c2307a106e09>\u001b[0m in \u001b[0;36m<module>\u001b[0;34m()\u001b[0m\n\u001b[1;32m      1\u001b[0m \u001b[0mIBA_OPTICS_PATH\u001b[0m \u001b[0;34m=\u001b[0m \u001b[0;34m\"/Users/chernals/reps/IBA-Optics/beamlines\"\u001b[0m\u001b[0;34m\u001b[0m\u001b[0m\n\u001b[0;32m----> 2\u001b[0;31m \u001b[0mbl\u001b[0m \u001b[0;34m=\u001b[0m \u001b[0mgeorges\u001b[0m\u001b[0;34m.\u001b[0m\u001b[0mBeamlineBuilder\u001b[0m\u001b[0;34m(\u001b[0m\u001b[0mpath\u001b[0m\u001b[0;34m=\u001b[0m\u001b[0mIBA_OPTICS_PATH\u001b[0m\u001b[0;34m,\u001b[0m \u001b[0mprefix\u001b[0m\u001b[0;34m=\u001b[0m\u001b[0;34m'generic/P1'\u001b[0m\u001b[0;34m)\u001b[0m                          \u001b[0;34m.\u001b[0m\u001b[0madd_from_file\u001b[0m\u001b[0;34m(\u001b[0m\u001b[0;34m'cgtr'\u001b[0m\u001b[0;34m)\u001b[0m                          \u001b[0;34m.\u001b[0m\u001b[0mbuild\u001b[0m\u001b[0;34m(\u001b[0m\u001b[0;34m)\u001b[0m\u001b[0;34m\u001b[0m\u001b[0m\n\u001b[0m\u001b[1;32m      3\u001b[0m \u001b[0mbl\u001b[0m\u001b[0;34m.\u001b[0m\u001b[0mline\u001b[0m\u001b[0;34m\u001b[0m\u001b[0m\n",
      "\u001b[0;31mNameError\u001b[0m: name 'georges' is not defined"
     ],
     "output_type": "error"
    }
   ],
   "source": [
    "IBA_OPTICS_PATH = \"/Users/chernals/reps/IBA-Optics/beamlines\"\n",
    "bl = georges.BeamlineBuilder(path=IBA_OPTICS_PATH, prefix='generic/P1') \\\n",
    "                         .add_from_file('cgtr') \\\n",
    "                         .build()\n",
    "bl.line"
   ]
  },
  {
   "cell_type": "code",
   "execution_count": null,
   "metadata": {},
   "outputs": [],
   "source": []
  }
 ],
 "metadata": {
  "kernelspec": {
   "display_name": "Python 3",
   "language": "python",
   "name": "python3"
  },
  "language_info": {
   "codemirror_mode": {
    "name": "ipython",
    "version": 3
   },
   "file_extension": ".py",
   "mimetype": "text/x-python",
   "name": "python",
   "nbconvert_exporter": "python",
   "pygments_lexer": "ipython3",
   "version": "3.6.4"
  }
 },
 "nbformat": 4,
 "nbformat_minor": 2
}
