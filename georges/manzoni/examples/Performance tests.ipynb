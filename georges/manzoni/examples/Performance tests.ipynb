{
 "cells": [
  {
   "cell_type": "code",
   "execution_count": 31,
   "metadata": {},
   "outputs": [],
   "source": [
    "import numpy as np\n",
    "import numpy.random_intel\n",
    "d5 = np.random_intel.multivariate_normal(\n",
    "        [0.0,\n",
    "          0.0,\n",
    "          0.0,\n",
    "          0.0,\n",
    "          0.0\n",
    "          ],\n",
    "         np.array([\n",
    "             [1.0, 0.0, 0.0, 0.0, 0.0],\n",
    "             [0.0, 1.0, 0.0, 0.0, 0.0],\n",
    "             [0.0, 0.0, 1.0, 0.0, 0.0],\n",
    "             [0.0, 0.0, 0.0, 1.0, 0.0],\n",
    "             [0.0, 0.0, 0.0, 0.0, 0.1]\n",
    "         ]),\n",
    "         int(1e5)\n",
    "     )\n",
    "\n",
    "d2 = np.random_intel.multivariate_normal(\n",
    "        [0.0,\n",
    "          0.0\n",
    "          ],\n",
    "         np.array([\n",
    "             [1.0, 0.0],\n",
    "             [0.0, 1.0],\n",
    "         ]),\n",
    "         int(1e5)\n",
    "     )\n",
    "\n",
    "D5 = np.array([[1, 10, 0, 0, 0], \n",
    "               [0, 1, 0, 0, 0],\n",
    "               [0, 0, 1, 0, 0],\n",
    "               [0, 0, 0, 1, 0]], dtype=np.float64)\n",
    "D2 = np.array([[1, 10], \n",
    "               [0, 1]], dtype=np.float64)\n",
    "DT5 = D5.T\n",
    "DT2 = D2.T"
   ]
  },
  {
   "cell_type": "code",
   "execution_count": 43,
   "metadata": {},
   "outputs": [
    {
     "name": "stdout",
     "output_type": "stream",
     "text": [
      "23 ms ± 3.02 ms per loop (mean ± std. dev. of 7 runs, 100 loops each)\n"
     ]
    }
   ],
   "source": [
    "%%timeit # -n 1 -r 1\n",
    "for i in range(0, 50):\n",
    "    np.dot(d5, DT5)"
   ]
  },
  {
   "cell_type": "code",
   "execution_count": 41,
   "metadata": {},
   "outputs": [
    {
     "name": "stdout",
     "output_type": "stream",
     "text": [
      "727 µs ± 6.73 µs per loop (mean ± std. dev. of 7 runs, 1000 loops each)\n"
     ]
    }
   ],
   "source": [
    "%%timeit\n",
    "d2 = d5[:, 0:2].copy()"
   ]
  },
  {
   "cell_type": "code",
   "execution_count": 42,
   "metadata": {},
   "outputs": [
    {
     "name": "stdout",
     "output_type": "stream",
     "text": [
      "12.5 ms ± 2.13 ms per loop (mean ± std. dev. of 7 runs, 100 loops each)\n"
     ]
    }
   ],
   "source": [
    "%%timeit\n",
    "for i in range(0, 50):\n",
    "    np.dot(d2, DT2)"
   ]
  },
  {
   "cell_type": "code",
   "execution_count": 20,
   "metadata": {},
   "outputs": [],
   "source": [
    "import torch\n",
    "import numpy as np\n",
    "import numpy.random_intel\n",
    "d = np.random_intel.multivariate_normal(\n",
    "        [0.0,\n",
    "          0.0,\n",
    "          0.0,\n",
    "          0.0,\n",
    "          0.0\n",
    "          ],\n",
    "         np.array([\n",
    "             [1.0, 0.0, 0.0, 0.0, 0.0],\n",
    "             [0.0, 1.0, 0.0, 0.0, 0.0],\n",
    "             [0.0, 0.0, 1.0, 0.0, 0.0],\n",
    "             [0.0, 0.0, 0.0, 1.0, 0.0],\n",
    "             [0.0, 0.0, 0.0, 0.0, 0.1]\n",
    "         ]),\n",
    "         int(1e5)\n",
    "     )\n",
    "\n",
    "D = np.array([[1, 10, 0, 0, 0], \n",
    "               [0, 1, 0, 0, 0],\n",
    "               [0, 0, 1, 0, 0],\n",
    "               [0, 0, 0, 1, 0]], dtype=np.float64)\n",
    "DT = D.T"
   ]
  },
  {
   "cell_type": "code",
   "execution_count": 21,
   "metadata": {},
   "outputs": [
    {
     "data": {
      "text/plain": [
       "dtype('float64')"
      ]
     },
     "execution_count": 21,
     "metadata": {},
     "output_type": "execute_result"
    }
   ],
   "source": [
    "d.dtype"
   ]
  },
  {
   "cell_type": "code",
   "execution_count": 22,
   "metadata": {},
   "outputs": [
    {
     "ename": "AttributeError",
     "evalue": "'torch.DoubleTensor' object has no attribute 'dtype'",
     "output_type": "error",
     "traceback": [
      "\u001b[0;31m---------------------------------------------------------------------------\u001b[0m",
      "\u001b[0;31mAttributeError\u001b[0m                            Traceback (most recent call last)",
      "\u001b[0;32m<ipython-input-22-a0c27c8bd181>\u001b[0m in \u001b[0;36m<module>\u001b[0;34m()\u001b[0m\n\u001b[0;32m----> 1\u001b[0;31m \u001b[0md_tensor\u001b[0m\u001b[0;34m.\u001b[0m\u001b[0mdtype\u001b[0m\u001b[0;34m\u001b[0m\u001b[0m\n\u001b[0m",
      "\u001b[0;31mAttributeError\u001b[0m: 'torch.DoubleTensor' object has no attribute 'dtype'"
     ]
    }
   ],
   "source": [
    "d_tensor."
   ]
  },
  {
   "cell_type": "code",
   "execution_count": 18,
   "metadata": {},
   "outputs": [
    {
     "name": "stdout",
     "output_type": "stream",
     "text": [
      "379 µs ± 23.8 µs per loop (mean ± std. dev. of 7 runs, 1000 loops each)\n"
     ]
    }
   ],
   "source": [
    "%%timeit #-n 1 -r 1\n",
    "for i in range(0, 1):\n",
    "    np.dot(d, DT)"
   ]
  },
  {
   "cell_type": "code",
   "execution_count": 16,
   "metadata": {},
   "outputs": [],
   "source": [
    "d_tensor = torch.DoubleTensor(d)\n",
    "DT_tensor = torch.DoubleTensor(DT)"
   ]
  },
  {
   "cell_type": "code",
   "execution_count": 19,
   "metadata": {},
   "outputs": [
    {
     "name": "stdout",
     "output_type": "stream",
     "text": [
      "391 µs ± 7.04 µs per loop (mean ± std. dev. of 7 runs, 1000 loops each)\n"
     ]
    }
   ],
   "source": [
    "%%timeit #-n 1 -r 1\n",
    "for i in range(0, 1):\n",
    "    torch.matmul(d_tensor, DT_tensor)"
   ]
  },
  {
   "cell_type": "code",
   "execution_count": null,
   "metadata": {},
   "outputs": [],
   "source": []
  }
 ],
 "metadata": {
  "kernelspec": {
   "display_name": "Python 3 - Anaconda",
   "language": "python",
   "name": "conda-python3"
  },
  "language_info": {
   "codemirror_mode": {
    "name": "ipython",
    "version": 3
   },
   "file_extension": ".py",
   "mimetype": "text/x-python",
   "name": "python",
   "nbconvert_exporter": "python",
   "pygments_lexer": "ipython3",
   "version": "3.6.3"
  }
 },
 "nbformat": 4,
 "nbformat_minor": 2
}
